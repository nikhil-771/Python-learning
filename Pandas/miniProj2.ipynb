{
 "cells": [
  {
   "cell_type": "code",
   "execution_count": 31,
   "id": "c39d8c69",
   "metadata": {},
   "outputs": [
    {
     "name": "stdout",
     "output_type": "stream",
     "text": [
      "   Order ID Customer Name     Category Sub-Category  Quantity  Price  \\\n",
      "0      2001       Charlie        Books      Fiction         3    500   \n",
      "1      2002       Charlie     Clothing        Shirt         3   1200   \n",
      "2      2003           Bob  Electronics      Fiction         2    500   \n",
      "\n",
      "   Order Date Region  Total  \n",
      "0  2024-12-01  North   1500  \n",
      "1  2024-11-02  South   3600  \n",
      "2  2024-01-03  South   1000  \n"
     ]
    }
   ],
   "source": [
    "import pandas as pd\n",
    "df = pd.read_csv(\"miniProject.csv\")\n",
    "print(df.head(3))"
   ]
  },
  {
   "cell_type": "code",
   "execution_count": null,
   "id": "028f8aed",
   "metadata": {},
   "outputs": [],
   "source": [
    "print(f\"rows = {df.shape[0]}\\ncolumn = {df.shape[1]}\")\n",
    "print(f\"Datatypes - {df.dtypes}\")"
   ]
  },
  {
   "cell_type": "code",
   "execution_count": null,
   "id": "f230c9d1",
   "metadata": {},
   "outputs": [],
   "source": [
    "df1 = df.groupby(\"Customer Name\")[\"Total\"].sum().sort_values(ascending=False).head(3).reset_index()\n",
    "df1"
   ]
  },
  {
   "cell_type": "code",
   "execution_count": null,
   "id": "dd6e7a5d",
   "metadata": {},
   "outputs": [],
   "source": [
    "ans = df.groupby(\"Customer Name\")['Total'].mean().reset_index()\n",
    "ans\n"
   ]
  },
  {
   "cell_type": "code",
   "execution_count": null,
   "id": "f60d891b",
   "metadata": {},
   "outputs": [],
   "source": [
    "df['Order Date'] = pd.to_datetime(df[\"Order Date\"])\n",
    "df['Months'] = df['Order Date'].dt.month_name()\n",
    "df['Months']"
   ]
  },
  {
   "cell_type": "code",
   "execution_count": null,
   "id": "d86c0d95",
   "metadata": {},
   "outputs": [],
   "source": [
    "ans = df.groupby('Months')[\"Total\"].sum().sort_values().reset_index()\n",
    "ans"
   ]
  },
  {
   "cell_type": "code",
   "execution_count": 32,
   "id": "b1a88403",
   "metadata": {},
   "outputs": [
    {
     "data": {
      "text/html": [
       "<div>\n",
       "<style scoped>\n",
       "    .dataframe tbody tr th:only-of-type {\n",
       "        vertical-align: middle;\n",
       "    }\n",
       "\n",
       "    .dataframe tbody tr th {\n",
       "        vertical-align: top;\n",
       "    }\n",
       "\n",
       "    .dataframe thead th {\n",
       "        text-align: right;\n",
       "    }\n",
       "</style>\n",
       "<table border=\"1\" class=\"dataframe\">\n",
       "  <thead>\n",
       "    <tr style=\"text-align: right;\">\n",
       "      <th></th>\n",
       "      <th>count</th>\n",
       "      <th>min</th>\n",
       "      <th>max</th>\n",
       "      <th>mean</th>\n",
       "    </tr>\n",
       "    <tr>\n",
       "      <th>Category</th>\n",
       "      <th></th>\n",
       "      <th></th>\n",
       "      <th></th>\n",
       "      <th></th>\n",
       "    </tr>\n",
       "  </thead>\n",
       "  <tbody>\n",
       "    <tr>\n",
       "      <th>Books</th>\n",
       "      <td>4</td>\n",
       "      <td>300</td>\n",
       "      <td>1200</td>\n",
       "      <td>625.0</td>\n",
       "    </tr>\n",
       "    <tr>\n",
       "      <th>Clothing</th>\n",
       "      <td>2</td>\n",
       "      <td>700</td>\n",
       "      <td>1200</td>\n",
       "      <td>950.0</td>\n",
       "    </tr>\n",
       "    <tr>\n",
       "      <th>Electronics</th>\n",
       "      <td>4</td>\n",
       "      <td>300</td>\n",
       "      <td>1200</td>\n",
       "      <td>800.0</td>\n",
       "    </tr>\n",
       "  </tbody>\n",
       "</table>\n",
       "</div>"
      ],
      "text/plain": [
       "             count  min   max   mean\n",
       "Category                            \n",
       "Books            4  300  1200  625.0\n",
       "Clothing         2  700  1200  950.0\n",
       "Electronics      4  300  1200  800.0"
      ]
     },
     "execution_count": 32,
     "metadata": {},
     "output_type": "execute_result"
    }
   ],
   "source": [
    "df.groupby('Category')['Price'].agg(['count', 'min', 'max', 'mean'])\n"
   ]
  },
  {
   "cell_type": "code",
   "execution_count": 30,
   "id": "f8eaa6a5",
   "metadata": {},
   "outputs": [
    {
     "data": {
      "text/html": [
       "<div>\n",
       "<style scoped>\n",
       "    .dataframe tbody tr th:only-of-type {\n",
       "        vertical-align: middle;\n",
       "    }\n",
       "\n",
       "    .dataframe tbody tr th {\n",
       "        vertical-align: top;\n",
       "    }\n",
       "\n",
       "    .dataframe thead th {\n",
       "        text-align: right;\n",
       "    }\n",
       "</style>\n",
       "<table border=\"1\" class=\"dataframe\">\n",
       "  <thead>\n",
       "    <tr style=\"text-align: right;\">\n",
       "      <th></th>\n",
       "      <th>Order ID</th>\n",
       "      <th>Customer Name</th>\n",
       "      <th>Category</th>\n",
       "      <th>Sub-Category</th>\n",
       "      <th>Quantity</th>\n",
       "      <th>Price</th>\n",
       "      <th>Order Date</th>\n",
       "      <th>Region</th>\n",
       "      <th>Total</th>\n",
       "      <th>Months</th>\n",
       "    </tr>\n",
       "  </thead>\n",
       "  <tbody>\n",
       "    <tr>\n",
       "      <th>1</th>\n",
       "      <td>2002</td>\n",
       "      <td>Charlie</td>\n",
       "      <td>Clothing</td>\n",
       "      <td>Shirt</td>\n",
       "      <td>3</td>\n",
       "      <td>1200</td>\n",
       "      <td>2024-11-02</td>\n",
       "      <td>South</td>\n",
       "      <td>3600</td>\n",
       "      <td>November</td>\n",
       "    </tr>\n",
       "    <tr>\n",
       "      <th>9</th>\n",
       "      <td>2010</td>\n",
       "      <td>Diana</td>\n",
       "      <td>Books</td>\n",
       "      <td>Mobile</td>\n",
       "      <td>3</td>\n",
       "      <td>1200</td>\n",
       "      <td>2024-12-10</td>\n",
       "      <td>North</td>\n",
       "      <td>3600</td>\n",
       "      <td>December</td>\n",
       "    </tr>\n",
       "    <tr>\n",
       "      <th>6</th>\n",
       "      <td>2007</td>\n",
       "      <td>Evan</td>\n",
       "      <td>Electronics</td>\n",
       "      <td>Mobile</td>\n",
       "      <td>2</td>\n",
       "      <td>1200</td>\n",
       "      <td>2024-04-07</td>\n",
       "      <td>South</td>\n",
       "      <td>2400</td>\n",
       "      <td>April</td>\n",
       "    </tr>\n",
       "    <tr>\n",
       "      <th>0</th>\n",
       "      <td>2001</td>\n",
       "      <td>Charlie</td>\n",
       "      <td>Books</td>\n",
       "      <td>Fiction</td>\n",
       "      <td>3</td>\n",
       "      <td>500</td>\n",
       "      <td>2024-12-01</td>\n",
       "      <td>North</td>\n",
       "      <td>1500</td>\n",
       "      <td>December</td>\n",
       "    </tr>\n",
       "    <tr>\n",
       "      <th>4</th>\n",
       "      <td>2005</td>\n",
       "      <td>Bob</td>\n",
       "      <td>Books</td>\n",
       "      <td>Shirt</td>\n",
       "      <td>3</td>\n",
       "      <td>500</td>\n",
       "      <td>2024-11-05</td>\n",
       "      <td>West</td>\n",
       "      <td>1500</td>\n",
       "      <td>November</td>\n",
       "    </tr>\n",
       "    <tr>\n",
       "      <th>5</th>\n",
       "      <td>2006</td>\n",
       "      <td>Diana</td>\n",
       "      <td>Clothing</td>\n",
       "      <td>Fiction</td>\n",
       "      <td>2</td>\n",
       "      <td>700</td>\n",
       "      <td>2024-12-06</td>\n",
       "      <td>West</td>\n",
       "      <td>1400</td>\n",
       "      <td>December</td>\n",
       "    </tr>\n",
       "  </tbody>\n",
       "</table>\n",
       "</div>"
      ],
      "text/plain": [
       "   Order ID Customer Name     Category Sub-Category  Quantity  Price  \\\n",
       "1      2002       Charlie     Clothing        Shirt         3   1200   \n",
       "9      2010         Diana        Books       Mobile         3   1200   \n",
       "6      2007          Evan  Electronics       Mobile         2   1200   \n",
       "0      2001       Charlie        Books      Fiction         3    500   \n",
       "4      2005           Bob        Books        Shirt         3    500   \n",
       "5      2006         Diana     Clothing      Fiction         2    700   \n",
       "\n",
       "  Order Date Region  Total    Months  \n",
       "1 2024-11-02  South   3600  November  \n",
       "9 2024-12-10  North   3600  December  \n",
       "6 2024-04-07  South   2400     April  \n",
       "0 2024-12-01  North   1500  December  \n",
       "4 2024-11-05   West   1500  November  \n",
       "5 2024-12-06   West   1400  December  "
      ]
     },
     "execution_count": 30,
     "metadata": {},
     "output_type": "execute_result"
    }
   ],
   "source": [
    "ans = df[df['Total'] > 1200].sort_values('Total', ascending=False)\n",
    "ans"
   ]
  }
 ],
 "metadata": {
  "kernelspec": {
   "display_name": "Python 3",
   "language": "python",
   "name": "python3"
  },
  "language_info": {
   "codemirror_mode": {
    "name": "ipython",
    "version": 3
   },
   "file_extension": ".py",
   "mimetype": "text/x-python",
   "name": "python",
   "nbconvert_exporter": "python",
   "pygments_lexer": "ipython3",
   "version": "3.12.1"
  }
 },
 "nbformat": 4,
 "nbformat_minor": 5
}
