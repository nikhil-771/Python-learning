{
 "cells": [
  {
   "cell_type": "code",
   "execution_count": 2,
   "id": "ad5539ff",
   "metadata": {},
   "outputs": [
    {
     "name": "stdout",
     "output_type": "stream",
     "text": [
      "Pandas Series:  Series([], dtype: object)\n",
      "Pandas Series:\n",
      " 4    g\n",
      "5    e\n",
      "6    e\n",
      "9    k\n",
      "8    s\n",
      "dtype: object\n"
     ]
    }
   ],
   "source": [
    "import pandas as pd \n",
    "import numpy as np\n",
    "\n",
    "ser = pd.Series() \n",
    "print(\"Pandas Series: \", ser) \n",
    "\n",
    "data = np.array(['g', 'e', 'e', 'k', 's']) \n",
    "  \n",
    "ser = pd.Series(data, index = [4, 5, 6, 9, 8]) \n",
    "print(\"Pandas Series:\\n\", ser)"
   ]
  },
  {
   "cell_type": "code",
   "execution_count": 3,
   "id": "1e762c47",
   "metadata": {},
   "outputs": [
    {
     "name": "stdout",
     "output_type": "stream",
     "text": [
      "Empty DataFrame\n",
      "Columns: []\n",
      "Index: []\n",
      "\n",
      "\n",
      "         0\n",
      "0   Geeks\n",
      "1     For\n",
      "2   Geeks\n",
      "3      is\n",
      "4  portal\n",
      "5     for\n",
      "6   Geeks\n"
     ]
    }
   ],
   "source": [
    "import pandas as pd \n",
    "   \n",
    "df = pd.DataFrame() \n",
    "print(df)\n",
    "\n",
    "lst = ['Geeks', 'For', 'Geeks', 'is', 'portal', 'for', 'Geeks'] \n",
    "  \n",
    "df = pd.DataFrame(lst) \n",
    "print(\"\\n\\n\", df)"
   ]
  },
  {
   "cell_type": "code",
   "execution_count": 4,
   "id": "9cf80d75",
   "metadata": {},
   "outputs": [
    {
     "name": "stdout",
     "output_type": "stream",
     "text": [
      "0     6\n",
      "1     8\n",
      "2    10\n",
      "3    12\n",
      "dtype: int64\n"
     ]
    }
   ],
   "source": [
    "import pandas as pd\n",
    "\n",
    "# Creating two Series\n",
    "series1 = pd.Series([1, 2, 3, 4])\n",
    "series2 = pd.Series([5, 6, 7, 8])\n",
    "\n",
    "# Addition\n",
    "result_addition = series1 + series2\n",
    "print(result_addition)"
   ]
  },
  {
   "cell_type": "code",
   "execution_count": 5,
   "id": "3420f0d1",
   "metadata": {},
   "outputs": [
    {
     "name": "stdout",
     "output_type": "stream",
     "text": [
      "    A   B\n",
      "0  10   5\n",
      "1  20  15\n",
      "2  30  25\n",
      "--------------\n",
      "A : 20.0\n",
      "B : 15.0\n"
     ]
    }
   ],
   "source": [
    "# Creating a DataFrame\n",
    "data = {'A': [10, 20, 30], 'B': [5, 15, 25]}\n",
    "df = pd.DataFrame(data)\n",
    "\n",
    "# Calculating mean for each column\n",
    "mean_values = df.mean()\n",
    "print(f\"{df}\\n--------------\")\n",
    "for col, mean in mean_values.items():\n",
    "    print(f\"{col} : {mean}\")"
   ]
  },
  {
   "cell_type": "code",
   "execution_count": 13,
   "id": "0adcc88c",
   "metadata": {},
   "outputs": [
    {
     "name": "stdout",
     "output_type": "stream",
     "text": [
      "shape --  (5, 3)\n",
      "columns -- Index(['A', 'B', 'C'], dtype='object')\n",
      "          A         B         C\n",
      "0  3.162278  2.236068  2.000000\n",
      "1  4.472136  3.872983  2.236068\n",
      "2  5.477226  5.000000  2.645751\n",
      "3  5.830952  5.830952  2.449490\n",
      "4  7.348469  5.099020  9.219544\n",
      "<class 'pandas.core.frame.DataFrame'>\n",
      "<class 'pandas.core.frame.DataFrame'>\n"
     ]
    }
   ],
   "source": [
    "import numpy as np\n",
    "\n",
    "# Creating a DataFrame\n",
    "data = {'A': [10, 20, 30,34,54], 'B': [5, 15, 25,34,26], 'C':[4,5,7,6,85]}\n",
    "df = pd.DataFrame(data)\n",
    "print(\"shape -- \", df.shape)\n",
    "print(f\"columns -- {df.columns}\")\n",
    "# Applying element-wise square root\n",
    "result_sqrt = np.sqrt(df)\n",
    "print(result_sqrt)\n",
    "print(type(df))\n",
    "print(type(result_sqrt))\n"
   ]
  },
  {
   "cell_type": "code",
   "execution_count": null,
   "id": "9afa7a68",
   "metadata": {},
   "outputs": [
    {
     "name": "stdout",
     "output_type": "stream",
     "text": [
      "Filtered Values:\n",
      "       A     B\n",
      "0  10.0   5.0\n",
      "1   NaN  15.0\n",
      "2   NaN   NaN\n"
     ]
    }
   ],
   "source": [
    "import numpy as np\n",
    "\n",
    "# Creating a DataFrame\n",
    "data = {'A': [10, 20, 30], 'B': [5, 15, 25]}\n",
    "df = pd.DataFrame(data)\n",
    "\n",
    "# Filtering values greater than 3\n",
    "filtered_values = df[(df > 3) & (df < 20)]\n",
    "print(\"Filtered Values:\\n\", filtered_values)"
   ]
  },
  {
   "cell_type": "code",
   "execution_count": null,
   "id": "c2e6cf74",
   "metadata": {},
   "outputs": [
    {
     "name": "stdout",
     "output_type": "stream",
     "text": [
      "Filled Series:\n",
      " 0    1.0\n",
      "1    2.0\n",
      "2    0.0\n",
      "3    4.0\n",
      "dtype: float64\n"
     ]
    }
   ],
   "source": [
    "import numpy as np\n",
    "\n",
    "# Creating a DataFrame\n",
    "data = {'A': [10, 20, 30], 'B': [5, 15, 25]}\n",
    "df = pd.DataFrame(data)\n",
    "\n",
    "# Introducing missing values\n",
    "series_with_nan = pd.Series([1, 2, np.nan, 4])\n",
    "\n",
    "# Filling missing values with 0\n",
    "filled_series = series_with_nan.fillna(0)\n",
    "print(\"Filled Series:\\n\", filled_series)"
   ]
  },
  {
   "cell_type": "code",
   "execution_count": null,
   "id": "f75de9b0",
   "metadata": {},
   "outputs": [],
   "source": []
  }
 ],
 "metadata": {
  "kernelspec": {
   "display_name": "Python 3",
   "language": "python",
   "name": "python3"
  },
  "language_info": {
   "codemirror_mode": {
    "name": "ipython",
    "version": 3
   },
   "file_extension": ".py",
   "mimetype": "text/x-python",
   "name": "python",
   "nbconvert_exporter": "python",
   "pygments_lexer": "ipython3",
   "version": "3.12.1"
  }
 },
 "nbformat": 4,
 "nbformat_minor": 5
}
