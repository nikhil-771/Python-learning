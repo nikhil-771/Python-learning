{
 "cells": [
  {
   "cell_type": "markdown",
   "id": "93bbe518",
   "metadata": {},
   "source": [
    "Section 1"
   ]
  },
  {
   "cell_type": "markdown",
   "id": "d4fdea3d",
   "metadata": {},
   "source": [
    "key ds in pandas:\n",
    "Series 1d\n",
    "DataFrame 2d"
   ]
  },
  {
   "cell_type": "code",
   "execution_count": null,
   "id": "ef32248b",
   "metadata": {},
   "outputs": [],
   "source": [
    "import pandas as pd"
   ]
  },
  {
   "cell_type": "code",
   "execution_count": null,
   "id": "a50af7bb",
   "metadata": {},
   "outputs": [],
   "source": [
    "s = pd.Series([1,2,3,4,5], index =['a', 'b', 'c', 'd', 'e'])"
   ]
  },
  {
   "cell_type": "code",
   "execution_count": null,
   "id": "caf10f24",
   "metadata": {},
   "outputs": [],
   "source": [
    "s"
   ]
  },
  {
   "cell_type": "code",
   "execution_count": null,
   "id": "558d6bac",
   "metadata": {},
   "outputs": [],
   "source": [
    "df = pd.DataFrame({\"names\": [\"Nikhil\", \"Rohan\", \" Shubham\"], \"marks\": [87, 78, 58]})"
   ]
  },
  {
   "cell_type": "code",
   "execution_count": null,
   "id": "f92af432",
   "metadata": {},
   "outputs": [],
   "source": [
    "df"
   ]
  },
  {
   "cell_type": "markdown",
   "id": "b1224ce7",
   "metadata": {},
   "source": [
    "Section 2"
   ]
  },
  {
   "cell_type": "code",
   "execution_count": null,
   "id": "6e942742",
   "metadata": {},
   "outputs": [],
   "source": [
    "df = pd.read_csv(\"Iris.csv\")"
   ]
  },
  {
   "cell_type": "code",
   "execution_count": null,
   "id": "0e9eaba9",
   "metadata": {},
   "outputs": [],
   "source": [
    "df"
   ]
  },
  {
   "cell_type": "code",
   "execution_count": null,
   "id": "5e749b03",
   "metadata": {},
   "outputs": [],
   "source": [
    "df.head() # top 5 values"
   ]
  },
  {
   "cell_type": "code",
   "execution_count": null,
   "id": "ee03fdd0",
   "metadata": {},
   "outputs": [],
   "source": [
    "df.tail() # bottom 5 values"
   ]
  },
  {
   "cell_type": "code",
   "execution_count": null,
   "id": "2e931d1a",
   "metadata": {},
   "outputs": [],
   "source": [
    "df.describe()"
   ]
  },
  {
   "cell_type": "code",
   "execution_count": null,
   "id": "2b3a3cc2",
   "metadata": {},
   "outputs": [],
   "source": [
    "df.info() # describes schema/table"
   ]
  },
  {
   "cell_type": "markdown",
   "id": "b147aff8",
   "metadata": {},
   "source": [
    "Data Selection"
   ]
  },
  {
   "cell_type": "code",
   "execution_count": null,
   "id": "45b05e3a",
   "metadata": {},
   "outputs": [],
   "source": [
    "df[\"Id\"]"
   ]
  },
  {
   "cell_type": "code",
   "execution_count": null,
   "id": "863461f0",
   "metadata": {},
   "outputs": [],
   "source": [
    "df[[\"Id\", \"SepalLengthCm\"]]"
   ]
  },
  {
   "cell_type": "code",
   "execution_count": null,
   "id": "b40cc3b0",
   "metadata": {},
   "outputs": [],
   "source": [
    "df.iloc[0] # shows a particular row"
   ]
  },
  {
   "cell_type": "code",
   "execution_count": null,
   "id": "e259b1d7",
   "metadata": {},
   "outputs": [],
   "source": [
    "df.dropna() # remove rows with atleast 1 NaN"
   ]
  },
  {
   "cell_type": "code",
   "execution_count": null,
   "id": "9d36209b",
   "metadata": {},
   "outputs": [],
   "source": [
    "df.fillna(0) # fills 0 in Nan do not cahnge actual file\n",
    "df.fillna(0) # fills 0 in NaN changes actual file"
   ]
  },
  {
   "cell_type": "code",
   "execution_count": null,
   "id": "2c90b64f",
   "metadata": {},
   "outputs": [],
   "source": [
    "df.rename(columns={\"SepalLengthCm\" : \"SL\"}, inplace=True) # renames column"
   ]
  },
  {
   "cell_type": "code",
   "execution_count": null,
   "id": "1f5f642c",
   "metadata": {},
   "outputs": [],
   "source": [
    "df['SL'] = df['SL'].astype(\"string\")\n",
    "df.info()"
   ]
  },
  {
   "cell_type": "code",
   "execution_count": null,
   "id": "a2e06abb",
   "metadata": {},
   "outputs": [],
   "source": [
    "len(df) # gives number of rows"
   ]
  },
  {
   "cell_type": "code",
   "execution_count": null,
   "id": "2f9c5445",
   "metadata": {},
   "outputs": [],
   "source": [
    "df[\"zeros\"] = [0 for i in range(len(df))]"
   ]
  },
  {
   "cell_type": "code",
   "execution_count": null,
   "id": "d7336e49",
   "metadata": {},
   "outputs": [],
   "source": [
    "df.info()"
   ]
  },
  {
   "cell_type": "code",
   "execution_count": null,
   "id": "7e0362fe",
   "metadata": {},
   "outputs": [],
   "source": [
    "df.to_csv(\"new file.csv\")"
   ]
  }
 ],
 "metadata": {
  "kernelspec": {
   "display_name": "Python 3",
   "language": "python",
   "name": "python3"
  },
  "language_info": {
   "codemirror_mode": {
    "name": "ipython",
    "version": 3
   },
   "file_extension": ".py",
   "mimetype": "text/x-python",
   "name": "python",
   "nbconvert_exporter": "python",
   "pygments_lexer": "ipython3",
   "version": "3.12.1"
  }
 },
 "nbformat": 4,
 "nbformat_minor": 5
}
