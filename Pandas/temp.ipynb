{
 "cells": [
  {
   "cell_type": "code",
   "execution_count": null,
   "id": "2b6aed5d",
   "metadata": {},
   "outputs": [],
   "source": [
    "import pandas as pd\n",
    "import random\n",
    "from datetime import datetime"
   ]
  },
  {
   "cell_type": "code",
   "execution_count": null,
   "id": "41a377eb",
   "metadata": {},
   "outputs": [],
   "source": [
    "data = {\n",
    "    'Order ID': list(range(2001, 2011)),\n",
    "    'Customer Name': random.choices(['Alice', 'Bob', 'Charlie', 'Diana', 'Evan'], k=10),\n",
    "    'Category': random.choices(['Electronics', 'Clothing', 'Books'], k=10),\n",
    "    'Sub-Category': random.choices(['Mobile', 'Laptop', 'Shirt', 'Fiction'], k=10),\n",
    "    'Quantity': random.choices([1, 2, 3], k=10),\n",
    "    'Price': random.choices([300, 500, 700, 1000, 1200], k=10),\n",
    "    'Order Date': pd.date_range(start='2024-12-01', periods=10),\n",
    "    'Region': random.choices(['North', 'South', 'East', 'West'], k=10)\n",
    "}"
   ]
  },
  {
   "cell_type": "code",
   "execution_count": null,
   "id": "136cc9b7",
   "metadata": {},
   "outputs": [],
   "source": [
    "df = pd.DataFrame(data)\n",
    "df['Total'] = df[\"Quantity\"] * df[\"Price\"]\n",
    "df.to_csv('miniProject.csv', index=False)"
   ]
  },
  {
   "cell_type": "code",
   "execution_count": null,
   "id": "324f2575",
   "metadata": {},
   "outputs": [
    {
     "data": {
      "text/plain": [
       "[1, 4, 9, 16]"
      ]
     },
     "execution_count": 5,
     "metadata": {},
     "output_type": "execute_result"
    }
   ],
   "source": [
    "\n",
    "nums = [1, 2, 3, 4, 5, 6, 7, 8, 9, 10]\n",
    "sq = list(map(lambda x: x**2, nums))\n",
    "sq"
   ]
  },
  {
   "cell_type": "code",
   "execution_count": 19,
   "id": "7ad76cdd",
   "metadata": {},
   "outputs": [
    {
     "data": {
      "text/plain": [
       "[2, 3, 5, 7]"
      ]
     },
     "execution_count": 19,
     "metadata": {},
     "output_type": "execute_result"
    }
   ],
   "source": [
    "def is_prime(x):\n",
    "    if x < 2:\n",
    "        return False\n",
    "    for i in range(2, int(x ** 0.5) + 1):\n",
    "        if x%i == 0:\n",
    "            return False\n",
    "    return True\n",
    "nums = [1, 2, 3, 4, 5, 6, 7, 8, 9, 10]\n",
    "\n",
    "primes = list(filter(lambda x : is_prime(x), nums))\n",
    "primes"
   ]
  },
  {
   "cell_type": "code",
   "execution_count": null,
   "id": "e2481ccd",
   "metadata": {},
   "outputs": [
    {
     "name": "stdout",
     "output_type": "stream",
     "text": [
      "['banana', 'apple', 'blueberr', 'cherry']\n"
     ]
    }
   ],
   "source": [
    "words = ['hello', 'world', 'python']\n",
    "ans = list(map(lambda w: w.capitalize(), words))"
   ]
  }
 ],
 "metadata": {
  "kernelspec": {
   "display_name": "Python 3",
   "language": "python",
   "name": "python3"
  },
  "language_info": {
   "codemirror_mode": {
    "name": "ipython",
    "version": 3
   },
   "file_extension": ".py",
   "mimetype": "text/x-python",
   "name": "python",
   "nbconvert_exporter": "python",
   "pygments_lexer": "ipython3",
   "version": "3.12.1"
  }
 },
 "nbformat": 4,
 "nbformat_minor": 5
}
