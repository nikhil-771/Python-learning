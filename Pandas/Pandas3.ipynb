{
 "cells": [
  {
   "cell_type": "code",
   "execution_count": null,
   "id": "075850db",
   "metadata": {},
   "outputs": [],
   "source": [
    "import pandas as pd"
   ]
  },
  {
   "cell_type": "code",
   "execution_count": null,
   "id": "bc169118",
   "metadata": {},
   "outputs": [],
   "source": [
    "\n",
    "data = {\n",
    "    'Order ID': [1001, 1002, 1003, 1004, 1005],\n",
    "    'Customer': ['Alice', 'Bob', 'Charlie', 'Alice', 'Bob'],\n",
    "    'Category': ['Electronics', 'Clothing', 'Electronics', 'Books', 'Clothing'],\n",
    "    'Quantity': [1, 2, 1, 3, 2],\n",
    "    'Price': [1000, 500, 1200, 300, 700],\n",
    "    'Order Date': ['2024-12-01', '2024-12-02', '2024-12-02', '2024-12-03', '2024-12-03']\n",
    "}\n",
    "\n",
    "df = pd.DataFrame(data)\n",
    "df['Order Date'] = pd.to_datetime(df['Order Date'])\n",
    "df"
   ]
  },
  {
   "cell_type": "code",
   "execution_count": null,
   "id": "8bd8900d",
   "metadata": {},
   "outputs": [],
   "source": [
    "type(df[\"Order Date\"][0])"
   ]
  },
  {
   "cell_type": "code",
   "execution_count": null,
   "id": "f1664f06",
   "metadata": {},
   "outputs": [],
   "source": [
    "df2 = df.iloc[2:]"
   ]
  },
  {
   "cell_type": "code",
   "execution_count": null,
   "id": "3f49a2e5",
   "metadata": {},
   "outputs": [],
   "source": [
    "df"
   ]
  },
  {
   "cell_type": "code",
   "execution_count": null,
   "id": "c9a9094b",
   "metadata": {},
   "outputs": [],
   "source": [
    "df.query(\"Price > 400 and Customer == 'Alice'\")"
   ]
  },
  {
   "cell_type": "code",
   "execution_count": null,
   "id": "8f5d5670",
   "metadata": {},
   "outputs": [],
   "source": [
    "df.sort_values(by='Order Date', ascending=False)\n",
    "df.sort_index() "
   ]
  },
  {
   "cell_type": "code",
   "execution_count": null,
   "id": "7ece4758",
   "metadata": {},
   "outputs": [],
   "source": [
    "df.loc[2, \"Price\"] = None\n",
    "df.loc[4, \"Category\"] = None\n",
    "df.loc[1, \"Order Date\"] = None\n",
    "df\n"
   ]
  },
  {
   "cell_type": "code",
   "execution_count": null,
   "id": "065421ad",
   "metadata": {},
   "outputs": [],
   "source": [
    "df[\"Price\"].mean()\n",
    "df[\"Price\"].sum()\n",
    "df[\"Price\"] = df[\"Price\"].fillna(df[\"Price\"].mean())\n",
    "df"
   ]
  },
  {
   "cell_type": "code",
   "execution_count": null,
   "id": "c20d30cb",
   "metadata": {},
   "outputs": [],
   "source": [
    "df[\"Order Date\"] = df[\"Order Date\"].fillna(df[\"Order Date\"].mean())\n"
   ]
  },
  {
   "cell_type": "code",
   "execution_count": null,
   "id": "ee77fc83",
   "metadata": {},
   "outputs": [],
   "source": [
    "df.loc[1, \"Quantity\"] = 1\n",
    "df"
   ]
  },
  {
   "cell_type": "code",
   "execution_count": null,
   "id": "c9056c67",
   "metadata": {},
   "outputs": [],
   "source": [
    "df.groupby('Customer')['Price'].sum()"
   ]
  },
  {
   "cell_type": "code",
   "execution_count": null,
   "id": "68ea272c",
   "metadata": {},
   "outputs": [],
   "source": [
    "df.groupby(['Customer', 'Category'])['Price'].mean()"
   ]
  },
  {
   "cell_type": "code",
   "execution_count": null,
   "id": "502c5352",
   "metadata": {},
   "outputs": [],
   "source": [
    "df.loc[1, \"Quantity\"] = 1\n",
    "df"
   ]
  },
  {
   "cell_type": "code",
   "execution_count": 100,
   "id": "613a6527",
   "metadata": {},
   "outputs": [
    {
     "data": {
      "text/html": [
       "<div>\n",
       "<style scoped>\n",
       "    .dataframe tbody tr th:only-of-type {\n",
       "        vertical-align: middle;\n",
       "    }\n",
       "\n",
       "    .dataframe tbody tr th {\n",
       "        vertical-align: top;\n",
       "    }\n",
       "\n",
       "    .dataframe thead tr th {\n",
       "        text-align: left;\n",
       "    }\n",
       "\n",
       "    .dataframe thead tr:last-of-type th {\n",
       "        text-align: right;\n",
       "    }\n",
       "</style>\n",
       "<table border=\"1\" class=\"dataframe\">\n",
       "  <thead>\n",
       "    <tr>\n",
       "      <th></th>\n",
       "      <th colspan=\"2\" halign=\"left\">Price</th>\n",
       "      <th>Quantity</th>\n",
       "    </tr>\n",
       "    <tr>\n",
       "      <th></th>\n",
       "      <th>sum</th>\n",
       "      <th>mean</th>\n",
       "      <th>sum</th>\n",
       "    </tr>\n",
       "    <tr>\n",
       "      <th>Customer</th>\n",
       "      <th></th>\n",
       "      <th></th>\n",
       "      <th></th>\n",
       "    </tr>\n",
       "  </thead>\n",
       "  <tbody>\n",
       "    <tr>\n",
       "      <th>Alice</th>\n",
       "      <td>1300.0</td>\n",
       "      <td>650.0</td>\n",
       "      <td>4</td>\n",
       "    </tr>\n",
       "    <tr>\n",
       "      <th>Bob</th>\n",
       "      <td>1200.0</td>\n",
       "      <td>600.0</td>\n",
       "      <td>3</td>\n",
       "    </tr>\n",
       "    <tr>\n",
       "      <th>Charlie</th>\n",
       "      <td>625.0</td>\n",
       "      <td>625.0</td>\n",
       "      <td>1</td>\n",
       "    </tr>\n",
       "  </tbody>\n",
       "</table>\n",
       "</div>"
      ],
      "text/plain": [
       "           Price        Quantity\n",
       "             sum   mean      sum\n",
       "Customer                        \n",
       "Alice     1300.0  650.0        4\n",
       "Bob       1200.0  600.0        3\n",
       "Charlie    625.0  625.0        1"
      ]
     },
     "execution_count": 100,
     "metadata": {},
     "output_type": "execute_result"
    }
   ],
   "source": [
    "df.groupby('Customer').agg({'Price': ['sum', 'mean'], 'Quantity': 'sum'})\n"
   ]
  },
  {
   "cell_type": "code",
   "execution_count": 106,
   "id": "c77f6f18",
   "metadata": {},
   "outputs": [
    {
     "data": {
      "text/plain": [
       "array(['Electronics', 'Clothing', 'Books', None], dtype=object)"
      ]
     },
     "execution_count": 106,
     "metadata": {},
     "output_type": "execute_result"
    }
   ],
   "source": [
    "df['Customer'].value_counts()\n",
    "df['Category'].nunique()\n",
    "df['Category'].unique()\n"
   ]
  }
 ],
 "metadata": {
  "kernelspec": {
   "display_name": "Python 3",
   "language": "python",
   "name": "python3"
  },
  "language_info": {
   "codemirror_mode": {
    "name": "ipython",
    "version": 3
   },
   "file_extension": ".py",
   "mimetype": "text/x-python",
   "name": "python",
   "nbconvert_exporter": "python",
   "pygments_lexer": "ipython3",
   "version": "3.12.1"
  }
 },
 "nbformat": 4,
 "nbformat_minor": 5
}
