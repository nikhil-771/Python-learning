{
 "cells": [
  {
   "cell_type": "code",
   "execution_count": null,
   "id": "4f1cb311",
   "metadata": {},
   "outputs": [],
   "source": [
    "import numpy as np"
   ]
  },
  {
   "cell_type": "code",
   "execution_count": null,
   "id": "b0a88f7e",
   "metadata": {},
   "outputs": [],
   "source": [
    "ar1 = np.array([1,2,3])\n",
    "ar1"
   ]
  },
  {
   "cell_type": "code",
   "execution_count": 7,
   "id": "79904ca1",
   "metadata": {},
   "outputs": [
    {
     "name": "stdout",
     "output_type": "stream",
     "text": [
      "[[0. 0. 0.]\n",
      " [0. 0. 0.]]\n",
      "[[1. 1.]\n",
      " [1. 1.]]\n",
      "[0 2 4 6 8]\n",
      "[0.   0.25 0.5  0.75 1.  ]\n",
      "[[1. 0. 0.]\n",
      " [0. 1. 0.]\n",
      " [0. 0. 1.]]\n",
      "[[0.11688246 0.42698464]\n",
      " [0.53144236 0.77078893]]\n",
      "[[1 2 8]\n",
      " [7 9 7]]\n"
     ]
    }
   ],
   "source": [
    "print(np.zeros((2,3)))\n",
    "print(np.ones((2,2)))\n",
    "print(np.arange(0,10,2))\n",
    "print(np.linspace(0,1,5))\n",
    "print(np.eye(3))\n",
    "print(np.random.rand(2,2))\n",
    "print(np.random.randint(1,10,size=(2,3)))"
   ]
  },
  {
   "cell_type": "code",
   "execution_count": 9,
   "id": "ed32ad49",
   "metadata": {},
   "outputs": [
    {
     "name": "stdout",
     "output_type": "stream",
     "text": [
      "[10 12 14 16 18 20 22 24 26 28]\n",
      "2\n"
     ]
    }
   ],
   "source": [
    "ar = np.arange(10, 30)\n",
    "print(ar[ar%2==0])\n",
    "print(np.random.randint(1,10))"
   ]
  },
  {
   "cell_type": "code",
   "execution_count": 14,
   "id": "f02ea1bf",
   "metadata": {},
   "outputs": [
    {
     "data": {
      "text/plain": [
       "array([[ 7,  8,  9,  0],\n",
       "       [ 5,  5,  6, 70],\n",
       "       [ 1,  2,  3, 40]])"
      ]
     },
     "execution_count": 14,
     "metadata": {},
     "output_type": "execute_result"
    }
   ],
   "source": [
    "mat = np.array([[1, 2, 3, 40],\n",
    "                [5, 5, 6, 70],\n",
    "                [7, 8, 9, 0]])\n",
    "ar = mat[::-1,:]\n",
    "ar"
   ]
  },
  {
   "cell_type": "code",
   "execution_count": 3,
   "id": "9f5c36a1",
   "metadata": {},
   "outputs": [
    {
     "name": "stdout",
     "output_type": "stream",
     "text": [
      "[5 7 9]\n",
      "[ 4 10 18]\n"
     ]
    },
    {
     "data": {
      "text/plain": [
       "array([1, 2, 3])"
      ]
     },
     "execution_count": 3,
     "metadata": {},
     "output_type": "execute_result"
    }
   ],
   "source": [
    "a = np.array([1, 2, 3])\n",
    "b = np.array([4, 5, 6])\n",
    "print(a + b)\n",
    "print(a * b)\n",
    "a"
   ]
  },
  {
   "cell_type": "code",
   "execution_count": null,
   "id": "6bea5abe",
   "metadata": {},
   "outputs": [],
   "source": [
    "arr = np.arange(1,7)\n",
    "ar = arr.reshape((3,2))\n",
    "ar.resize()\n",
    "ar"
   ]
  },
  {
   "cell_type": "code",
   "execution_count": 15,
   "id": "a7d6a703",
   "metadata": {},
   "outputs": [
    {
     "name": "stdout",
     "output_type": "stream",
     "text": [
      "[[2 3 4]\n",
      " [3 4 5]]\n"
     ]
    },
    {
     "data": {
      "text/plain": [
       "array([[1],\n",
       "       [2]])"
      ]
     },
     "execution_count": 15,
     "metadata": {},
     "output_type": "execute_result"
    }
   ],
   "source": [
    "a = np.array([1,2,3])\n",
    "b = np.array([[1],[2]])\n",
    "print(a + b)\n",
    "b"
   ]
  },
  {
   "cell_type": "code",
   "execution_count": 17,
   "id": "fbcc4fac",
   "metadata": {},
   "outputs": [
    {
     "name": "stdout",
     "output_type": "stream",
     "text": [
      "[0.         1.57079633 3.14159265]\n",
      "[0. 1. 2.]\n"
     ]
    }
   ],
   "source": [
    "arr = np.array([0, np.pi/2, np.pi])\n",
    "print((arr))\n",
    "print(np.log(np.array([1, np.e, np.e**2])))\n",
    "\n"
   ]
  },
  {
   "cell_type": "code",
   "execution_count": null,
   "id": "549f7a94",
   "metadata": {},
   "outputs": [],
   "source": [
    "arr = np.array([10, np.pi/2, np.pi])\n",
    "print(np.sin(arr))\n",
    "print(np.log(np.array([1, np.e, np.e**2])))\n",
    "arr\n"
   ]
  },
  {
   "cell_type": "code",
   "execution_count": 21,
   "id": "275f43c0",
   "metadata": {},
   "outputs": [
    {
     "data": {
      "text/plain": [
       "array([[1, 2],\n",
       "       [3, 4],\n",
       "       [5, 6],\n",
       "       [7, 8]])"
      ]
     },
     "execution_count": 21,
     "metadata": {},
     "output_type": "execute_result"
    }
   ],
   "source": [
    "a = np.array([[1,2],[3,4]])\n",
    "b = np.array([[5,6],[7,8]])\n",
    "np.vstack((a, b)) "
   ]
  },
  {
   "cell_type": "code",
   "execution_count": 34,
   "id": "4093ad0d",
   "metadata": {},
   "outputs": [
    {
     "data": {
      "text/plain": [
       "array([[80,  3,  2,  1],\n",
       "       [70,  6,  5,  4]])"
      ]
     },
     "execution_count": 34,
     "metadata": {},
     "output_type": "execute_result"
    }
   ],
   "source": [
    "a = np.array([[1, 2, 3, 80], [4, 5, 6, 70]])\n",
    "a[:2, ::-1]"
   ]
  },
  {
   "cell_type": "code",
   "execution_count": 46,
   "id": "44e3840c",
   "metadata": {},
   "outputs": [
    {
     "name": "stdout",
     "output_type": "stream",
     "text": [
      "[[1 2 3]]\n",
      "[[1 2]\n",
      " [4 5]\n",
      " [7 8]]\n",
      "[5 7 9]\n",
      "[3 4 5]\n",
      "[ 4 10 18]\n"
     ]
    }
   ],
   "source": [
    "#1\n",
    "a = np.array([[1,2,3], [4,5,6],[7,8,9]])\n",
    "#2\n",
    "row1 = a[0:1, ]\n",
    "col2 = a[:, :2]\n",
    "print(row1)\n",
    "print(col2)\n",
    "#3\n",
    "iden = np.eye(4)\n",
    "#4\n",
    "a=np.array([1,2,3])\n",
    "b=np.array([4,5,6])\n",
    "print((a+b))\n",
    "print(b - 1)\n",
    "print(a * b)"
   ]
  },
  {
   "cell_type": "code",
   "execution_count": 49,
   "id": "52ee8836",
   "metadata": {},
   "outputs": [
    {
     "name": "stdout",
     "output_type": "stream",
     "text": [
      "[[1 2 3 4 5 6]]\n",
      "[1 2 3 4 5 6]\n"
     ]
    }
   ],
   "source": [
    "a = np.array([[1, 2, 3], [4, 5, 6]])\n",
    "print(a.reshape((1,6)))\n",
    "print(a.flatten())  # [1 2 3 4 5 6]\n"
   ]
  },
  {
   "cell_type": "code",
   "execution_count": 55,
   "id": "67716381",
   "metadata": {},
   "outputs": [
    {
     "name": "stdout",
     "output_type": "stream",
     "text": [
      "None\n",
      "[[4.17022005e-01 7.20324493e-01]\n",
      " [1.14374817e-04 3.02332573e-01]]\n",
      "[[-0.52817175 -1.07296862]\n",
      " [ 0.86540763 -2.3015387 ]]\n",
      "[[6 3]\n",
      " [5 3]]\n"
     ]
    }
   ],
   "source": [
    "print(np.random.seed(1))             # For reproducibility\n",
    "print(np.random.rand(2, 2))           # Random floats [0,1)\n",
    "print(np.random.randn(2, 2))            # Normal distribution\n",
    "print(np.random.randint(1, 10, (2, 2)))   # Random ints\n"
   ]
  },
  {
   "cell_type": "code",
   "execution_count": 56,
   "id": "affbaeb5",
   "metadata": {},
   "outputs": [
    {
     "name": "stdout",
     "output_type": "stream",
     "text": [
      "Approx. Mean: 0.0012247657293582475\n",
      "Approx. Std Dev: 0.9991881251827761\n"
     ]
    }
   ],
   "source": [
    "large_sample = np.random.randn(1000000)\n",
    "print(\"Approx. Mean:\", large_sample.mean())\n",
    "print(\"Approx. Std Dev:\", large_sample.std())"
   ]
  },
  {
   "cell_type": "code",
   "execution_count": 63,
   "id": "3aa70c3b",
   "metadata": {},
   "outputs": [
    {
     "name": "stdout",
     "output_type": "stream",
     "text": [
      "[[33 79 31 68]\n",
      " [29 28 33 70]\n",
      " [22 34 14 80]]\n",
      "[33 79 31 68 29 28 33 70 22 34 14 80 47 57 62 34 96 90  0 81 91 59 83 25]\n",
      "[[33 79 31 68 29 28 33 70 22 34 14 80]\n",
      " [47 57 62 34 96 90  0 81 91 59 83 25]]\n"
     ]
    }
   ],
   "source": [
    "ar1 = np.random.randint(low=0, high=100, size=12)\n",
    "ar2 = np.random.randint(low=0, high=100, size=12)\n",
    "print(ar1.reshape(3,4))\n",
    "print(np.hstack((ar1, ar2)))\n",
    "print(np.vstack((ar1, ar2)))"
   ]
  },
  {
   "cell_type": "code",
   "execution_count": 67,
   "id": "9d8d62e8",
   "metadata": {},
   "outputs": [
    {
     "name": "stdout",
     "output_type": "stream",
     "text": [
      "[[ 0  3  9  2  7]\n",
      " [ 2  4 10  7 16]\n",
      " [18 13  9  5 16]\n",
      " [ 3 15  4  1  0]\n",
      " [15 18  4  5  7]]\n",
      "[16 18 13 16 15 15 18]\n"
     ]
    }
   ],
   "source": [
    "ar = np.random.randint(0, 20, (5,5))\n",
    "print(ar)\n",
    "print(ar[ar>10])"
   ]
  },
  {
   "cell_type": "code",
   "execution_count": 69,
   "id": "e574cb6b",
   "metadata": {},
   "outputs": [
    {
     "name": "stdout",
     "output_type": "stream",
     "text": [
      "[3 4 5]\n"
     ]
    }
   ],
   "source": [
    "a = np.array([1, 2, 3])\n",
    "b = 2\n",
    "print(a + b)  # [3 4 5] → b is broadcasted to [2 2 2]"
   ]
  },
  {
   "cell_type": "code",
   "execution_count": 74,
   "id": "8330923b",
   "metadata": {},
   "outputs": [
    {
     "name": "stdout",
     "output_type": "stream",
     "text": [
      "[[3 3 3]\n",
      " [4 4 4]\n",
      " [5 5 5]]\n"
     ]
    }
   ],
   "source": [
    "a  = np.array([1,1,1])\n",
    "b=np.array([[2,2,2],[3,3,3],[4,4,4]])\n",
    "result = a+b\n",
    "print(result)"
   ]
  },
  {
   "cell_type": "code",
   "execution_count": 80,
   "id": "da16207a",
   "metadata": {},
   "outputs": [
    {
     "name": "stdout",
     "output_type": "stream",
     "text": [
      "[ 1  2  3  4  5  6  7  8  9 10]\n"
     ]
    }
   ],
   "source": [
    "a = np.arange(1,11)\n",
    "print(a)"
   ]
  },
  {
   "cell_type": "code",
   "execution_count": 99,
   "id": "0510163e",
   "metadata": {},
   "outputs": [
    {
     "name": "stdout",
     "output_type": "stream",
     "text": [
      "NumPy time: 0.003742694854736328\n",
      "noraml time =  0.09804224967956543\n"
     ]
    }
   ],
   "source": [
    "import time\n",
    "\n",
    "a = np.arange(1e6)\n",
    "start = time.time()\n",
    "a = a * 2\n",
    "print(\"NumPy time:\", time.time() - start)\n",
    "\n",
    "start = time.time()\n",
    "a = []\n",
    "for i in range (1000000):\n",
    "    a.append(i)\n",
    "print(\"noraml time = \", time.time() - start)\n"
   ]
  },
  {
   "cell_type": "code",
   "execution_count": 104,
   "id": "69855dd9",
   "metadata": {},
   "outputs": [],
   "source": [
    "a = np.array([[1, 2], [3, 4]])\n",
    "b = np.array([[2, 0], [1, 2]])\n"
   ]
  },
  {
   "cell_type": "code",
   "execution_count": 107,
   "id": "71d46f84",
   "metadata": {},
   "outputs": [
    {
     "name": "stdout",
     "output_type": "stream",
     "text": [
      "a.b\n",
      "[[ 4  4]\n",
      " [10  8]]\n",
      "\n",
      "Inverse of a\n",
      "[[-2.   1. ]\n",
      " [ 1.5 -0.5]]\n",
      "\n",
      "\n",
      "Determinant of a\n",
      "-2.0000000000000004\n",
      "\n",
      "\n",
      "Eigen values [-0.37228132  5.37228132]\n",
      "\n",
      "eigenvetor of a\n",
      "[[-0.82456484 -0.41597356]\n",
      " [ 0.56576746 -0.90937671]]\n"
     ]
    }
   ],
   "source": [
    "print(f\"a.b\\n{np.dot(a,b)}\\n\\nInverse of a\\n{np.linalg.inv(a)}\\n\\n\")\n",
    "print(f\"Determinant of a\\n{np.linalg.det(a)}\\n\\n\")\n",
    "evalues, evectors = np.linalg.eig(a)\n",
    "print(f\"Eigen values {evalues}\\n\\neigenvetor of a\\n{evectors}\")"
   ]
  },
  {
   "cell_type": "code",
   "execution_count": 127,
   "id": "8748df58",
   "metadata": {},
   "outputs": [
    {
     "name": "stdout",
     "output_type": "stream",
     "text": [
      "[[18 30 13  7]\n",
      " [ 1 89 17 13]\n",
      " [52 88 11  4]\n",
      " [13 29 67 78]\n",
      " [21 82 12 83]]\n",
      "[30 17  4]\n"
     ]
    }
   ],
   "source": [
    "a = np.array([0,1,2])\n",
    "b = np.array([1,2,3])\n",
    "c = np.random.randint(0, 101, (5,4))\n",
    "print(c)\n",
    "print(c[a, b])"
   ]
  },
  {
   "cell_type": "code",
   "execution_count": 133,
   "id": "e14fac19",
   "metadata": {},
   "outputs": [
    {
     "name": "stdout",
     "output_type": "stream",
     "text": [
      "[[0 0 0]\n",
      " [1 2 3]\n",
      " [2 4 6]]\n",
      "d\n",
      " 8\n",
      "rows = 3, col = 3\n"
     ]
    }
   ],
   "source": [
    "a = np.array([0,1,2])\n",
    "b = np.array([1,2,3])\n",
    "c = np.outer(a, b)\n",
    "d = np.dot(a, b)\n",
    "print(c)\n",
    "print(\"d\\n\", d)\n",
    "rows, cols = c.shape\n",
    "print(f\"rows = {rows}, col = {cols}\")"
   ]
  },
  {
   "cell_type": "code",
   "execution_count": 169,
   "id": "45f809f0",
   "metadata": {},
   "outputs": [
    {
     "name": "stdout",
     "output_type": "stream",
     "text": [
      "[[ 3  9  4]\n",
      " [ 8  6  8]\n",
      " [ 8  7 10]]\n",
      "Determinat =  -99.99999999999996\n",
      "Inverse = \n",
      " [[-0.04  0.62 -0.48]\n",
      " [ 0.16  0.02 -0.08]\n",
      " [-0.08 -0.51  0.54]]\n"
     ]
    }
   ],
   "source": [
    "#3\n",
    "a = np.random.randint(1, 11, (3, 3))\n",
    "print(a)\n",
    "print(\"Determinat = \",np.linalg.det(a))\n",
    "print(\"Inverse = \\n\", np.linalg.inv(a))"
   ]
  },
  {
   "cell_type": "code",
   "execution_count": null,
   "id": "84c26950",
   "metadata": {},
   "outputs": [],
   "source": []
  }
 ],
 "metadata": {
  "kernelspec": {
   "display_name": "Python 3",
   "language": "python",
   "name": "python3"
  },
  "language_info": {
   "codemirror_mode": {
    "name": "ipython",
    "version": 3
   },
   "file_extension": ".py",
   "mimetype": "text/x-python",
   "name": "python",
   "nbconvert_exporter": "python",
   "pygments_lexer": "ipython3",
   "version": "3.12.1"
  }
 },
 "nbformat": 4,
 "nbformat_minor": 5
}
