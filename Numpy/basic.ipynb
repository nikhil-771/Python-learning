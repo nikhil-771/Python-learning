{
 "cells": [
  {
   "cell_type": "code",
   "execution_count": 1,
   "id": "7fc6e62a",
   "metadata": {},
   "outputs": [],
   "source": [
    "import numpy as np"
   ]
  },
  {
   "cell_type": "code",
   "execution_count": 7,
   "id": "bdd34650",
   "metadata": {},
   "outputs": [
    {
     "data": {
      "text/plain": [
       "array([0., 2., 4., 6., 8.])"
      ]
     },
     "execution_count": 7,
     "metadata": {},
     "output_type": "execute_result"
    }
   ],
   "source": [
    "np.zeros((2, 3))       # 2x3 array of zeros\n",
    "np.ones((3, 2))        # 3x2 array of ones\n",
    "np.full((2, 2), 7)     # 2x2 array filled with 7\n",
    "np.eye(3)              # 3x3 Identity matrix\n",
    "np.linspace(0, 10, 5, dtype=int)   # 5 evenly spaced numbers from 0 to 1\n",
    "np.arange(0, 10, 2, dtype = float)    # array([0, 2, 4, 6, 8])"
   ]
  },
  {
   "cell_type": "code",
   "execution_count": 8,
   "id": "a3dec670",
   "metadata": {},
   "outputs": [
    {
     "name": "stdout",
     "output_type": "stream",
     "text": [
      "6\n",
      "[2 5]\n",
      "[4 5 6]\n",
      "[[2 3]\n",
      " [5 6]]\n"
     ]
    }
   ],
   "source": [
    "a = np.array([[1, 2, 3], [4, 5, 6]])\n",
    "\n",
    "print(a[1, 2])         # 6\n",
    "print(a[:, 1])         # column 1 → [2 5]\n",
    "print(a[1, :])         # row 1 → [4 5 6]\n",
    "print(a[0:2, 1:3])     # slicing"
   ]
  },
  {
   "cell_type": "code",
   "execution_count": null,
   "id": "6acc55c3",
   "metadata": {},
   "outputs": [],
   "source": [
    "arr = np.array([[1, 2, 3], [4, 5, 6]])\n",
    "print(arr.shape)      # (2, 3)\n",
    "print(arr.ndim)       # 2\n",
    "print(arr.dtype)      # int64\n",
    "print(arr.size)       # 6\n",
    "print(arr.itemsize)   # size of each element in bytes"
   ]
  },
  {
   "cell_type": "code",
   "execution_count": 26,
   "id": "6348c1b3",
   "metadata": {},
   "outputs": [
    {
     "name": "stdout",
     "output_type": "stream",
     "text": [
      "Determinant of a --  27.0\n",
      "Determinant of b --  -9.000000000000002\n",
      "Eigen Value - [12.12289378 -0.38838384 -5.73450994]\n",
      "Eigen Vector\n",
      "[[-0.29982463 -0.74706733 -0.27625411]\n",
      " [-0.70747178  0.65820192 -0.38842554]\n",
      " [-0.63999131 -0.09306254  0.87909571]]\n"
     ]
    }
   ],
   "source": [
    "a = np.array([[1, 2, 3], [4,5,6], [7,8,0]])\n",
    "b = np.array([[0,2,1],[6,5,4],[9,8,7]])\n",
    "da = np.linalg.det(a)\n",
    "db = np.linalg.det(b)\n",
    "print(\"Determinant of a -- \", da)\n",
    "print(\"Determinant of b -- \", db)\n",
    "inva = np.linalg.inv(a)\n",
    "invb = np.linalg.inv(b)\n",
    "eval, evec = np.linalg.eig(a)\n",
    "print(f\"Eigen Value - {eval}\\nEigen Vector\\n{evec}\")"
   ]
  },
  {
   "cell_type": "code",
   "execution_count": 33,
   "id": "bcd946d9",
   "metadata": {},
   "outputs": [
    {
     "name": "stdout",
     "output_type": "stream",
     "text": [
      "dot product\n",
      "[[39 36 30]\n",
      " [84 81 66]\n",
      " [48 54 39]]\n",
      "product\n",
      "[[ 0  2  1  6  5  4  9  8  7]\n",
      " [ 0  4  2 12 10  8 18 16 14]\n",
      " [ 0  6  3 18 15 12 27 24 21]\n",
      " [ 0  8  4 24 20 16 36 32 28]\n",
      " [ 0 10  5 30 25 20 45 40 35]\n",
      " [ 0 12  6 36 30 24 54 48 42]\n",
      " [ 0 14  7 42 35 28 63 56 49]\n",
      " [ 0 16  8 48 40 32 72 64 56]\n",
      " [ 0  0  0  0  0  0  0  0  0]]\n"
     ]
    }
   ],
   "source": [
    "# multiplication\n",
    "a = np.array([[1, 2, 3], [4,5,6], [7,8,0]])\n",
    "b = np.array([[0,2,1],[6,5,4],[9,8,7]])\n",
    "\n",
    "# dot product gives scaler value\n",
    "print(f\"dot product\\n{np.dot(a,b)}\")\n",
    "\n",
    "# gives prodect\n",
    "print(f\"product\\n{np.outer(a,b)}\")"
   ]
  },
  {
   "cell_type": "code",
   "execution_count": 36,
   "id": "1854448f",
   "metadata": {},
   "outputs": [
    {
     "name": "stdout",
     "output_type": "stream",
     "text": [
      "[[ 4  8 12]\n",
      " [ 5 10 15]]\n"
     ]
    }
   ],
   "source": [
    "import numpy as np\n",
    "\n",
    "a = np.array([1, 2, 3])\n",
    "b = np.array([4, 5])\n",
    "\n",
    "result = np.outer(b,a )\n",
    "print(result)\n"
   ]
  },
  {
   "cell_type": "code",
   "execution_count": 30,
   "id": "b58b0bfe",
   "metadata": {},
   "outputs": [
    {
     "data": {
      "text/plain": [
       "array([[1, 2, 3],\n",
       "       [4, 5, 6],\n",
       "       [7, 8, 0]])"
      ]
     },
     "execution_count": 30,
     "metadata": {},
     "output_type": "execute_result"
    }
   ],
   "source": [
    "np.unique(a)          # Get unique values\n",
    "np.sort(a)            # Sort array\n",
    "np.where(a > 2)       # Indices where condition is met\n",
    "np.clip(a, 0, 7)     # Limit values in array\n",
    "a"
   ]
  },
  {
   "cell_type": "code",
   "execution_count": null,
   "id": "6c896b3e",
   "metadata": {},
   "outputs": [],
   "source": []
  }
 ],
 "metadata": {
  "kernelspec": {
   "display_name": "Python 3",
   "language": "python",
   "name": "python3"
  },
  "language_info": {
   "codemirror_mode": {
    "name": "ipython",
    "version": 3
   },
   "file_extension": ".py",
   "mimetype": "text/x-python",
   "name": "python",
   "nbconvert_exporter": "python",
   "pygments_lexer": "ipython3",
   "version": "3.12.1"
  }
 },
 "nbformat": 4,
 "nbformat_minor": 5
}
